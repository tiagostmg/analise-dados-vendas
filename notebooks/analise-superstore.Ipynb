{
 "cells": [
  {
   "cell_type": "code",
   "execution_count": null,
   "id": "4f5a75af",
   "metadata": {
    "vscode": {
     "languageId": "plaintext"
    }
   },
   "outputs": [],
   "source": [
    "import pandas as pd\n",
    "\n",
    "# Lendo o arquivo\n",
    "df = pd.read_csv(\"data/Sample-Superstore.csv\", encoding='latin1')\n",
    "\n",
    "# Mostrando as primeiras linhas\n",
    "print(\"Primeiras linhas do DataFrame:\")\n",
    "print(df.head())\n",
    "\n",
    "# Informações iniciais\n",
    "print(\"\\nInformações do DataFrame:\")\n",
    "print(df.info())\n",
    "\n",
    "# Verificando valores ausentes\n",
    "print(\"\\nValores ausentes por coluna:\")\n",
    "print(df.isnull().sum())"
   ]
  }
 ],
 "metadata": {
  "language_info": {
   "name": "python"
  }
 },
 "nbformat": 4,
 "nbformat_minor": 5
}
