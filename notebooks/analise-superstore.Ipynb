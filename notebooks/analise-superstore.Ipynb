{
 "cells": [
  {
   "cell_type": "markdown",
   "id": "120481dc",
   "metadata": {},
   "source": [
    "[Veja o dataset no Kaggle](https://www.kaggle.com/datasets/vivek468/superstore-dataset-final)"
   ]
  },
  {
   "cell_type": "code",
   "execution_count": null,
   "id": "4f5a75af",
   "metadata": {},
   "outputs": [],
   "source": [
    "import pandas as pd\n",
    "\n",
    "# Lendo o arquivo\n",
    "df = pd.read_csv(\"../data/Sample-Superstore.csv\", encoding='latin1')\n",
    "\n",
    "# Mostrando as primeiras linhas\n",
    "print(df.head())\n",
    "\n",
    "# Informações iniciais\n",
    "print(df.info())\n",
    "\n",
    "# Verificando valores ausentes\n",
    "print(df.isnull().sum())"
   ]
  },
  {
   "cell_type": "code",
   "execution_count": null,
   "id": "ec1d06c6",
   "metadata": {},
   "outputs": [],
   "source": [
    "# Converter para datetime\n",
    "df['Order Date'] = pd.to_datetime(df['Order Date'])\n",
    "df['Ship Date'] = pd.to_datetime(df['Ship Date'])\n",
    "\n",
    "# Criar colunas auxiliares\n",
    "df['Year'] = df['Order Date'].dt.year\n",
    "df['Month'] = df['Order Date'].dt.month\n",
    "df['Month Name'] = df['Order Date'].dt.strftime('%B')\n",
    "df['Year-Month'] = df['Order Date'].dt.to_period('M')"
   ]
  },
  {
   "cell_type": "markdown",
   "id": "8de26261",
   "metadata": {},
   "source": [
    "Faturamento por mês"
   ]
  },
  {
   "cell_type": "code",
   "execution_count": null,
   "id": "887dc71d",
   "metadata": {},
   "outputs": [],
   "source": [
    "import matplotlib.pyplot as plt\n",
    "\n",
    "# Agrupando por mês\n",
    "monthly_sales = df.groupby('Year-Month')['Sales'].sum()\n",
    "\n",
    "# Plotando\n",
    "plt.figure(figsize=(12, 5))\n",
    "monthly_sales.plot(marker='o')\n",
    "plt.title('Faturamento Mensal')\n",
    "plt.ylabel('Faturamento (USD)')\n",
    "plt.xlabel('Ano-Mês')\n",
    "plt.grid(True)\n",
    "plt.xticks(rotation=45)\n",
    "plt.tight_layout()\n",
    "\n",
    "plt.savefig('../img/faturamento_mensal.png')\n",
    "plt.show()"
   ]
  },
  {
   "cell_type": "markdown",
   "id": "1dace9e7",
   "metadata": {},
   "source": [
    "Produtos mais vendidos em quantidade"
   ]
  },
  {
   "cell_type": "code",
   "execution_count": null,
   "id": "00c67b60",
   "metadata": {},
   "outputs": [],
   "source": [
    "top_products = df.groupby('Product Name')['Quantity'].sum().sort_values(ascending=False).head(10)\n",
    "\n",
    "top_products.plot(kind='barh', figsize=(10, 6), color='skyblue')\n",
    "plt.title('Top 10 Produtos Mais Vendidos')\n",
    "plt.xlabel('Quantidade Vendida')\n",
    "plt.gca().invert_yaxis()\n",
    "plt.tight_layout()\n",
    "\n",
    "plt.savefig('../img/produtos_mais_vendidos.png')\n",
    "plt.show()"
   ]
  },
  {
   "cell_type": "markdown",
   "id": "f13ee0af",
   "metadata": {},
   "source": [
    "  Melhores clientes por valor total comprado"
   ]
  },
  {
   "cell_type": "code",
   "execution_count": null,
   "id": "3ef837f2",
   "metadata": {},
   "outputs": [],
   "source": [
    "top_customers = df.groupby('Customer Name')['Sales'].sum().sort_values(ascending=False).head(10)\n",
    "\n",
    "top_customers.plot(kind='barh', figsize=(10, 6), color='orange')\n",
    "plt.title('Top 10 Clientes por Valor de Compras')\n",
    "plt.xlabel('Total de Compras (USD)')\n",
    "plt.gca().invert_yaxis()\n",
    "plt.tight_layout()\n",
    "\n",
    "plt.savefig('../img/melhores_clientes.png')\n",
    "plt.show()"
   ]
  },
  {
   "cell_type": "markdown",
   "id": "fd58af70",
   "metadata": {},
   "source": [
    "Faturamento por categoria e subcategoria"
   ]
  },
  {
   "cell_type": "code",
   "execution_count": null,
   "id": "e666a891",
   "metadata": {},
   "outputs": [],
   "source": [
    "import seaborn as sns\n",
    "\n",
    "category_sales = df.groupby(['Category', 'Sub-Category'])['Sales'].sum().reset_index()\n",
    "\n",
    "plt.figure(figsize=(12, 6))\n",
    "sns.barplot(data=category_sales, x='Category', y='Sales', hue='Sub-Category')\n",
    "plt.title('Faturamento por Categoria e Subcategoria')\n",
    "plt.ylabel('Vendas (USD)')\n",
    "plt.tight_layout()\n",
    "\n",
    "plt.savefig('../img/faturamento_por_categoria.png')\n",
    "plt.show()"
   ]
  },
  {
   "cell_type": "markdown",
   "id": "9759d03b",
   "metadata": {},
   "source": [
    "Categorias com prejuízo"
   ]
  },
  {
   "cell_type": "code",
   "execution_count": null,
   "id": "65c62b1e",
   "metadata": {},
   "outputs": [],
   "source": [
    "loss_products = df[df['Profit'] < 0].groupby('Product Name')['Profit'].sum().sort_values().head(10)\n",
    "\n",
    "loss_products.plot(kind='barh', figsize=(10, 6), color='red')\n",
    "plt.title('Top 10 Produtos com Maior Prejuízo')\n",
    "plt.xlabel('Lucro Total (USD)')\n",
    "plt.gca().invert_yaxis()\n",
    "plt.tight_layout()\n",
    "\n",
    "plt.savefig('../img/categorias_com_prejuizo.png')\n",
    "plt.show()"
   ]
  }
 ],
 "metadata": {
  "kernelspec": {
   "display_name": ".venv",
   "language": "python",
   "name": "python3"
  },
  "language_info": {
   "codemirror_mode": {
    "name": "ipython",
    "version": 3
   },
   "file_extension": ".py",
   "mimetype": "text/x-python",
   "name": "python",
   "nbconvert_exporter": "python",
   "pygments_lexer": "ipython3",
   "version": "3.11.9"
  }
 },
 "nbformat": 4,
 "nbformat_minor": 5
}
